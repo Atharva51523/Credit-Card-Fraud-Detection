{
  "nbformat": 4,
  "nbformat_minor": 0,
  "metadata": {
    "colab": {
      "provenance": []
    },
    "kernelspec": {
      "name": "python3",
      "display_name": "Python 3"
    },
    "language_info": {
      "name": "python"
    }
  },
  "cells": [
    {
      "cell_type": "code",
      "source": [
        "# Import libraries\n",
        "import pandas as pd\n",
        "import numpy as np\n",
        "from sklearn.model_selection import train_test_split\n",
        "from sklearn.preprocessing import StandardScaler, LabelEncoder\n",
        "from sklearn.linear_model import LogisticRegression\n",
        "from sklearn.tree import DecisionTreeClassifier\n",
        "from sklearn.ensemble import RandomForestClassifier\n",
        "from sklearn.metrics import classification_report, roc_auc_score, confusion_matrix\n",
        "from imblearn.over_sampling import SMOTE\n",
        "import warnings\n",
        "import time\n",
        "warnings.filterwarnings('ignore')"
      ],
      "metadata": {
        "id": "by8Y5sqPob0l"
      },
      "execution_count": null,
      "outputs": []
    },
    {
      "cell_type": "code",
      "source": [
        "# Load datasets\n",
        "train_df = pd.read_csv('fraudTrain.csv')\n",
        "test_df = pd.read_csv('fraudTest.csv')"
      ],
      "metadata": {
        "id": "GbpIaBfsrowv"
      },
      "execution_count": null,
      "outputs": []
    },
    {
      "cell_type": "code",
      "source": [
        "# Explore data\n",
        "print(\"Training Data Shape:\", train_df.shape)\n",
        "print(\"Test Data Shape:\", test_df.shape)\n",
        "print(\"Class Distribution in Training Data:\")\n",
        "print(train_df['is_fraud'].value_counts(normalize=True))"
      ],
      "metadata": {
        "colab": {
          "base_uri": "https://localhost:8080/"
        },
        "id": "5dnyqX_-rqAo",
        "outputId": "fe081801-d8fa-436b-aa29-2f786bf541b0"
      },
      "execution_count": null,
      "outputs": [
        {
          "output_type": "stream",
          "name": "stdout",
          "text": [
            "Training Data Shape: (1296675, 23)\n",
            "Test Data Shape: (555719, 23)\n",
            "Class Distribution in Training Data:\n",
            "is_fraud\n",
            "0    0.994211\n",
            "1    0.005789\n",
            "Name: proportion, dtype: float64\n"
          ]
        }
      ]
    },
    {
      "cell_type": "code",
      "source": [
        "# Data Preprocessing\n",
        "# Combine train and test for consistent preprocessing\n",
        "combined_df = pd.concat([train_df, test_df], axis=0)"
      ],
      "metadata": {
        "id": "xkTnDX-CrrYR"
      },
      "execution_count": null,
      "outputs": []
    },
    {
      "cell_type": "code",
      "source": [
        "# Drop irrelevant columns (e.g., names, IDs, or dates that are too specific)\n",
        "drop_columns = ['trans_num', 'first', 'last', 'street', 'dob', 'unix_time', 'trans_date_trans_time']\n",
        "combined_df = combined_df.drop(columns=[col for col in drop_columns if col in combined_df.columns])"
      ],
      "metadata": {
        "id": "5pzpJqbkrrRT"
      },
      "execution_count": null,
      "outputs": []
    },
    {
      "cell_type": "code",
      "source": [
        "# Handle categorical variables\n",
        "categorical_cols = ['merchant', 'category', 'gender', 'city', 'state', 'job']\n",
        "for col in categorical_cols:\n",
        "    if col in combined_df.columns:\n",
        "        le = LabelEncoder()\n",
        "        combined_df[col] = le.fit_transform(combined_df[col])"
      ],
      "metadata": {
        "id": "CHTgkMk0rsiu"
      },
      "execution_count": null,
      "outputs": []
    },
    {
      "cell_type": "code",
      "source": [
        "# Split back into train and test\n",
        "train_df = combined_df.iloc[:len(train_df)]\n",
        "test_df = combined_df.iloc[len(train_df):]"
      ],
      "metadata": {
        "id": "S_Rgigzvru4y"
      },
      "execution_count": null,
      "outputs": []
    },
    {
      "cell_type": "code",
      "source": [
        "# Separate features and target\n",
        "X_train = train_df.drop('is_fraud', axis=1)\n",
        "y_train = train_df['is_fraud']\n",
        "X_test = test_df.drop('is_fraud', axis=1)\n",
        "y_test = test_df['is_fraud']"
      ],
      "metadata": {
        "id": "W8eTpJYjrwAY"
      },
      "execution_count": null,
      "outputs": []
    },
    {
      "cell_type": "code",
      "source": [
        "# Scale numerical features\n",
        "scaler = StandardScaler()\n",
        "X_train = scaler.fit_transform(X_train)\n",
        "X_test = scaler.transform(X_test)"
      ],
      "metadata": {
        "id": "15A-JF5jrxJ7"
      },
      "execution_count": null,
      "outputs": []
    },
    {
      "cell_type": "code",
      "source": [
        "# Handle class imbalance with SMOTE\n",
        "smote = SMOTE(random_state=42)\n",
        "X_train_balanced, y_train_balanced = smote.fit_resample(X_train, y_train)"
      ],
      "metadata": {
        "id": "XfJMFZkzryYh"
      },
      "execution_count": null,
      "outputs": []
    },
    {
      "cell_type": "code",
      "source": [
        "# Initialize models\n",
        "models = {\n",
        "    'Logistic Regression': LogisticRegression(random_state=42),\n",
        "    'Decision Tree': DecisionTreeClassifier(random_state=42),\n",
        "    'Random Forest': RandomForestClassifier(random_state=42, n_estimators=100)\n",
        "}"
      ],
      "metadata": {
        "id": "8Ktrww82rzpu"
      },
      "execution_count": null,
      "outputs": []
    },
    {
      "cell_type": "code",
      "source": [
        "# Train and evaluate models\n",
        "for name, model in models.items():\n",
        "    print(f\"\\nTraining {name}...\")\n",
        "    start_time = time.time()\n",
        "\n",
        "    try:\n",
        "        # Train model\n",
        "        model.fit(X_train_sub, y_train_sub)\n",
        "        print(f\"Training completed in {time.time() - start_time:.2f} seconds\")\n",
        "\n",
        "        # Predict\n",
        "        print(\"Predicting...\")\n",
        "        start_pred = time.time()\n",
        "        y_pred = model.predict(X_test)\n",
        "        print(f\"Prediction completed in {time.time() - start_pred:.2f} seconds\")\n",
        "\n",
        "        # Evaluation\n",
        "        print(f\"\\nResults for {name}:\")\n",
        "        print(\"Classification Report:\")\n",
        "        print(classification_report(y_test, y_pred))\n",
        "        print(\"ROC-AUC Score:\", roc_auc_score(y_test, y_pred))\n",
        "        print(\"Confusion Matrix:\")\n",
        "        print(confusion_matrix(y_test, y_pred))\n",
        "\n",
        "    except Exception as e:\n",
        "        print(f\"Error in {name}: {str(e)}\")\n",
        "\n",
        "    print(f\"Total time for {name}: {time.time() - start_time:.2f} seconds\")"
      ],
      "metadata": {
        "colab": {
          "base_uri": "https://localhost:8080/"
        },
        "id": "nTfNHVlO0Py_",
        "outputId": "c39357ca-3dbf-46d6-f423-c6ad74715740"
      },
      "execution_count": null,
      "outputs": [
        {
          "output_type": "stream",
          "name": "stdout",
          "text": [
            "\n",
            "Training Logistic Regression...\n",
            "Error in Logistic Regression: name 'X_train_sub' is not defined\n",
            "Total time for Logistic Regression: 0.00 seconds\n",
            "\n",
            "Training Decision Tree...\n",
            "Error in Decision Tree: name 'X_train_sub' is not defined\n",
            "Total time for Decision Tree: 0.00 seconds\n",
            "\n",
            "Training Random Forest...\n",
            "Error in Random Forest: name 'X_train_sub' is not defined\n",
            "Total time for Random Forest: 0.00 seconds\n"
          ]
        }
      ]
    },
    {
      "cell_type": "code",
      "source": [
        "# Train and evaluate models\n",
        "for name, model in models.items():\n",
        "    print(f\"\\nTraining {name}...\")\n",
        "    start_time = time.time()\n",
        "\n",
        "    try:\n",
        "        # Train model\n",
        "        model.fit(X_train_sub, y_train_sub)\n",
        "        print(f\"Training completed in {time.time() - start_time:.2f} seconds\")\n",
        "\n",
        "        # Predict\n",
        "        print(\"Predicting...\")\n",
        "        start_pred = time.time()\n",
        "        y_pred = model.predict(X_test)\n",
        "        print(f\"Prediction completed in {time.time() - start_pred:.2f} seconds\")\n",
        "\n",
        "        # Evaluation\n",
        "        print(f\"\\nResults for {name}:\")\n",
        "        print(\"Classification Report:\")\n",
        "        print(classification_report(y_test, y_pred))\n",
        "        print(\"ROC-AUC Score:\", roc_auc_score(y_test, y_pred))\n",
        "        print(\"Confusion Matrix:\")\n",
        "        print(confusion_matrix(y_test, y_pred))\n",
        "\n",
        "    except Exception as e:\n",
        "        print(f\"Error in {name}: {str(e)}\")\n",
        "\n",
        "    print(f\"Total time for {name}: {time.time() - start_time:.2f} seconds\")"
      ],
      "metadata": {
        "colab": {
          "base_uri": "https://localhost:8080/"
        },
        "id": "Vil6sNKtr2RK",
        "outputId": "f6707e31-ee7c-4168-ca72-2b4e731d50b4"
      },
      "execution_count": null,
      "outputs": [
        {
          "output_type": "stream",
          "name": "stdout",
          "text": [
            "\n",
            "Training Logistic Regression...\n",
            "Error in Logistic Regression: name 'X_train_sub' is not defined\n",
            "Total time for Logistic Regression: 0.00 seconds\n",
            "\n",
            "Training Decision Tree...\n",
            "Error in Decision Tree: name 'X_train_sub' is not defined\n",
            "Total time for Decision Tree: 0.00 seconds\n",
            "\n",
            "Training Random Forest...\n",
            "Error in Random Forest: name 'X_train_sub' is not defined\n",
            "Total time for Random Forest: 0.00 seconds\n"
          ]
        }
      ]
    },
    {
      "cell_type": "code",
      "source": [
        "# Optional: Hyperparameter tuning for Random Forest (best model candidate)\n",
        "from sklearn.model_selection import GridSearchCV\n",
        "param_grid = {\n",
        "    'n_estimators': [50, 100],\n",
        "    'max_depth': [10, 20, None],\n",
        "    'min_samples_split': [2, 5]\n",
        "}\n",
        "rf = RandomForestClassifier(random_state=42)\n",
        "grid_search = GridSearchCV(rf, param_grid, cv=3, scoring='f1', n_jobs=-1)\n",
        "grid_search.fit(X_train_balanced, y_train_balanced)\n",
        "\n",
        "print(\"\\nBest Random Forest Parameters:\", grid_search.best_params_)\n",
        "print(\"Best Random Forest Score:\", grid_search.best_score_)\n"
      ],
      "metadata": {
        "colab": {
          "base_uri": "https://localhost:8080/"
        },
        "id": "gak87grfr4nR",
        "outputId": "6040e917-43b8-4505-d5f6-dfee3a8db189"
      },
      "execution_count": null,
      "outputs": [
        {
          "output_type": "stream",
          "name": "stdout",
          "text": [
            "\n",
            "Best Random Forest Parameters: {'max_depth': None, 'min_samples_split': 5, 'n_estimators': 100}\n",
            "Best Random Forest Score: 0.6826194458170605\n"
          ]
        }
      ]
    },
    {
      "cell_type": "code",
      "source": [
        "# Evaluate tuned Random Forest\n",
        "best_rf = grid_search.best_estimator_\n",
        "y_pred_rf = best_rf.predict(X_test)\n",
        "print(\"\\nTuned Random Forest Results:\")\n",
        "print(classification_report(y_test, y_pred_rf))\n",
        "print(\"ROC-AUC Score:\", roc_auc_score(y_test, y_pred_rf))"
      ],
      "metadata": {
        "colab": {
          "base_uri": "https://localhost:8080/"
        },
        "id": "VsSi6Mhgr5y5",
        "outputId": "359057e1-caf1-4a4d-9818-cd36ad918303"
      },
      "execution_count": null,
      "outputs": [
        {
          "output_type": "stream",
          "name": "stdout",
          "text": [
            "\n",
            "Tuned Random Forest Results:\n",
            "              precision    recall  f1-score   support\n",
            "\n",
            "           0       1.00      1.00      1.00    553574\n",
            "           1       0.64      0.52      0.57      2145\n",
            "\n",
            "    accuracy                           1.00    555719\n",
            "   macro avg       0.82      0.76      0.78    555719\n",
            "weighted avg       1.00      1.00      1.00    555719\n",
            "\n",
            "ROC-AUC Score: 0.7572434410804709\n"
          ]
        }
      ]
    },
    {
      "cell_type": "code",
      "source": [],
      "metadata": {
        "id": "oA2tVU7Sr_0H"
      },
      "execution_count": null,
      "outputs": []
    }
  ]
}